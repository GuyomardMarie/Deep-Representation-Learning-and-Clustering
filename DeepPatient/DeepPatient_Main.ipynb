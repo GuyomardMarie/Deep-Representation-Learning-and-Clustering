{
 "cells": [
  {
   "cell_type": "markdown",
   "metadata": {},
   "source": [
    "# Deep Patient"
   ]
  },
  {
   "cell_type": "markdown",
   "metadata": {},
   "source": [
    "Required environment:\n",
    "- Python 2.7\n",
    "- Packages : Theano, Scikit-learn, Pandas and Scipy"
   ]
  },
  {
   "cell_type": "markdown",
   "metadata": {},
   "source": [
    "## Import codes"
   ]
  },
  {
   "cell_type": "markdown",
   "metadata": {},
   "source": [
    "Package available on authors github\n",
    "\n",
    "https://github.com/riccardomiotto/deep_patient"
   ]
  },
  {
   "cell_type": "code",
   "execution_count": null,
   "metadata": {},
   "outputs": [],
   "source": [
    "from da import DA\n",
    "from sda import SDA"
   ]
  },
  {
   "cell_type": "markdown",
   "metadata": {},
   "source": [
    "Complementary Functionalities provided on our Github"
   ]
  },
  {
   "cell_type": "code",
   "execution_count": null,
   "metadata": {},
   "outputs": [],
   "source": [
    "run DeepPatient_Functions.ipynb"
   ]
  },
  {
   "cell_type": "markdown",
   "metadata": {},
   "source": [
    "## Data"
   ]
  },
  {
   "cell_type": "markdown",
   "metadata": {},
   "source": [
    "### Import the data "
   ]
  },
  {
   "cell_type": "code",
   "execution_count": null,
   "metadata": {},
   "outputs": [],
   "source": [
    "data = pd.read_csv(...)"
   ]
  },
  {
   "cell_type": "markdown",
   "metadata": {},
   "source": [
    "### Prepare the data\n",
    "1. The medical codes must be factorized, ie. transformed in integer\n",
    "2. Padding on the patient sequence: each lenght of sequences must be the same \n",
    "3. Generate a matrix of format sparse.csc_matrix() of shape number of samples x max visits lenght"
   ]
  },
  {
   "cell_type": "code",
   "execution_count": null,
   "metadata": {},
   "outputs": [],
   "source": [
    "# Generate the final matrix\n",
    "seq_matrix = sparse.csc_matrix(...)"
   ]
  },
  {
   "cell_type": "markdown",
   "metadata": {},
   "source": [
    "## Gridsearch"
   ]
  },
  {
   "cell_type": "markdown",
   "metadata": {},
   "source": [
    "Optimized Parameters\n",
    "- nhidden: dimension of the latent space\n",
    "- nlayer: number of Autoencoder layers\n",
    "- corrup_lvl: data corruption level"
   ]
  },
  {
   "cell_type": "code",
   "execution_count": null,
   "metadata": {},
   "outputs": [],
   "source": [
    "epochs = 100\n",
    "learning_rate = 1e-3\n",
    "batch_size = 250\n",
    "# Tested Parameters\n",
    "embedding_dim_list = [10, 20, 50, 100]\n",
    "layers_list = [1, 3, 5]\n",
    "corrupt_lvl_list = [0.01, 0.05, 0.1]"
   ]
  },
  {
   "cell_type": "code",
   "execution_count": null,
   "metadata": {},
   "outputs": [],
   "source": [
    "df_hyperparameters = gridsearch_sda(seq_matrix, epochs, learning_rate, batch_size, embedding_dim_list, layers_list, corrupt_lvl_list)"
   ]
  },
  {
   "cell_type": "markdown",
   "metadata": {},
   "source": [
    "We keep the set of hyperparameters minimizing the loss on validation test to avoid over-fitting"
   ]
  },
  {
   "cell_type": "code",
   "execution_count": null,
   "metadata": {},
   "outputs": [],
   "source": [
    "print('The optimal Parameters are ')\n",
    "print('Dimension of the latent space : ' + str(df_hyperparameters.iloc[int(np.where(df_hyperparameters.Loss_test==np.min(df_hyperparameters['Loss_test']))[0].item())].nhidden))\n",
    "print('Number of layers : ' + str(df_hyperparameters.iloc[int(np.where(df_hyperparameters.Loss_test==np.min(df_hyperparameters['Loss_test']))[0].item())].nlayer))\n",
    "print('Corruption level : ' + str(df_hyperparameters.iloc[int(np.where(df_hyperparameters.Loss_test==np.min(df_hyperparameters['Loss_test']))[0].item())].corrupt_lvl))"
   ]
  },
  {
   "cell_type": "markdown",
   "metadata": {},
   "source": [
    "## Training Step"
   ]
  },
  {
   "cell_type": "markdown",
   "metadata": {},
   "source": [
    "### Split the sample into a train (80%) and test sample (20%)"
   ]
  },
  {
   "cell_type": "code",
   "execution_count": null,
   "metadata": {},
   "outputs": [],
   "source": [
    "np.random.seed(407)\n",
    "seq_matrix_train, seq_matrix_test= train_test_split(seq_matrix, test_size=0.2, random_state=42)"
   ]
  },
  {
   "cell_type": "markdown",
   "metadata": {},
   "source": [
    "### Parameters"
   ]
  },
  {
   "cell_type": "markdown",
   "metadata": {},
   "source": [
    "- Optimal hyperparameters"
   ]
  },
  {
   "cell_type": "code",
   "execution_count": null,
   "metadata": {},
   "outputs": [],
   "source": [
    "nhidden = df_hyperparameters.iloc[int(np.where(df_hyperparameters.Loss_test==np.min(df_hyperparameters['Loss_test']))[0].item())].nhidden\n",
    "nlayer = df_hyperparameters.iloc[int(np.where(df_hyperparameters.Loss_test==np.min(df_hyperparameters['Loss_test']))[0].item())].nlayer\n",
    "corrupt_lvl = df_hyperparameters.iloc[int(np.where(df_hyperparameters.Loss_test==np.min(df_hyperparameters['Loss_test']))[0].item())].corrupt_lvl"
   ]
  },
  {
   "cell_type": "markdown",
   "metadata": {},
   "source": [
    "- Training Parameters"
   ]
  },
  {
   "cell_type": "code",
   "execution_count": null,
   "metadata": {},
   "outputs": [],
   "source": [
    "epochs = 200\n",
    "learning_rate = 1e-3\n",
    "batch_size = 250"
   ]
  },
  {
   "cell_type": "markdown",
   "metadata": {},
   "source": [
    "### Model Construction"
   ]
  },
  {
   "cell_type": "code",
   "execution_count": null,
   "metadata": {},
   "outputs": [],
   "source": [
    "model = SDA(seq_matrix_train.shape[1],\n",
    "             nhidden=nhidden,\n",
    "             nlayer=nlayer,\n",
    "             param={\n",
    "    'epochs': epochs,\n",
    "    'learn_rate' : learning_rate,\n",
    "    'batch_size': batch_size,\n",
    "    'corrupt_lvl': corrupt_lvl\n",
    "})"
   ]
  },
  {
   "cell_type": "markdown",
   "metadata": {},
   "source": [
    "### Training"
   ]
  },
  {
   "cell_type": "code",
   "execution_count": null,
   "metadata": {
    "vscode": {
     "languageId": "plaintext"
    }
   },
   "outputs": [],
   "source": [
    "model.train(seq_matrix_train)"
   ]
  },
  {
   "cell_type": "markdown",
   "metadata": {},
   "source": [
    "### Saving of the model"
   ]
  },
  {
   "cell_type": "code",
   "execution_count": null,
   "metadata": {},
   "outputs": [],
   "source": [
    "param = {}\n",
    "for layer in range(nlayer) :\n",
    "    param['layer_' + str(layer)] = {'w':model.sda[layer].w.get_value(), 'b':model.sda[layer].b.get_value(), 'bp':model.sda[layer].bp.get_value()}\n",
    "\n",
    "with open('model.pkl', 'wb') as f:\n",
    "    pickle.dump(param, f)"
   ]
  },
  {
   "cell_type": "markdown",
   "metadata": {},
   "source": [
    "## Evaluation Step"
   ]
  },
  {
   "cell_type": "code",
   "execution_count": null,
   "metadata": {},
   "outputs": [],
   "source": [
    "cost_per_layer_train, cost_per_layer_test = evaluate_sda(model, seq_matrix_train, seq_matrix_test)"
   ]
  },
  {
   "cell_type": "markdown",
   "metadata": {},
   "source": [
    "- Cost per layer on the training set"
   ]
  },
  {
   "cell_type": "code",
   "execution_count": null,
   "metadata": {},
   "outputs": [],
   "source": [
    "cost_per_layer_train"
   ]
  },
  {
   "cell_type": "markdown",
   "metadata": {},
   "source": [
    "- Cost per layer on the validation set"
   ]
  },
  {
   "cell_type": "code",
   "execution_count": null,
   "metadata": {},
   "outputs": [],
   "source": [
    "cost_per_layer_test"
   ]
  },
  {
   "cell_type": "markdown",
   "metadata": {},
   "source": [
    "## Resulting latent space"
   ]
  },
  {
   "cell_type": "markdown",
   "metadata": {},
   "source": [
    "### Apply the model on the whole sample"
   ]
  },
  {
   "cell_type": "code",
   "execution_count": null,
   "metadata": {},
   "outputs": [],
   "source": [
    "deep_repr = model.apply(seq_matrix)\n",
    "print(deep_repr.shape)"
   ]
  },
  {
   "cell_type": "markdown",
   "metadata": {},
   "source": [
    "Make sure the shape of the representation is number of patients x dimension of the latent space"
   ]
  },
  {
   "cell_type": "markdown",
   "metadata": {},
   "source": [
    "### Saving the embedding space\n",
    "\n",
    "This step is required to charge the patient representation when computing the clustering."
   ]
  },
  {
   "cell_type": "code",
   "execution_count": null,
   "metadata": {},
   "outputs": [],
   "source": [
    "np.save('deep_repr', np.array(deep_repr))"
   ]
  }
 ],
 "metadata": {
  "kernelspec": {
   "display_name": "python2.7",
   "language": "python",
   "name": "python3"
  },
  "language_info": {
   "codemirror_mode": {
    "name": "ipython",
    "version": 2
   },
   "file_extension": ".py",
   "mimetype": "text/x-python",
   "name": "python",
   "nbconvert_exporter": "python",
   "pygments_lexer": "ipython2",
   "version": "2.7.18"
  }
 },
 "nbformat": 4,
 "nbformat_minor": 2
}
