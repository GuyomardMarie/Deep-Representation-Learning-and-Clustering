{
 "cells": [
  {
   "cell_type": "markdown",
   "metadata": {},
   "source": [
    "# Med2Vec"
   ]
  },
  {
   "cell_type": "markdown",
   "metadata": {},
   "source": [
    "Required environment\n",
    "- Python 2.7\n",
    "- Required Packages: Theano, Pickle, Scikit-learn and Scipy"
   ]
  },
  {
   "cell_type": "markdown",
   "metadata": {},
   "source": [
    "Import codes"
   ]
  },
  {
   "cell_type": "markdown",
   "metadata": {},
   "source": [
    "run Med2Vec_Functions.ipynb"
   ]
  },
  {
   "cell_type": "markdown",
   "metadata": {},
   "source": [
    "## Data"
   ]
  },
  {
   "cell_type": "markdown",
   "metadata": {},
   "source": [
    "The format of the data required by the original package is a list, such as each sample is separated by a token [-1].\n",
    "\n",
    "    Example:\n",
    "    - Sample 1 - 2 visits: $[1,2,3], [4,5,6,7]$\n",
    "    - Sample 2 - 3 visits: $[2,4], [8,3,1], [3]$\n",
    "    - Final input: $[[1,2,3], [4,5,6,7], [-1], [2,4], [8,3,1], [3]]$\n",
    "\n",
    "The data must be pickled."
   ]
  },
  {
   "cell_type": "code",
   "execution_count": null,
   "metadata": {},
   "outputs": [],
   "source": [
    "pickle.dump(..., open('data_pickle', 'wb'), -1)"
   ]
  },
  {
   "cell_type": "markdown",
   "metadata": {},
   "source": [
    "## GridSearch"
   ]
  },
  {
   "cell_type": "markdown",
   "metadata": {},
   "source": [
    "Optimized Parameters\n",
    "- embDimSize : size of the intermediate representation\n",
    "- hiddenDimSize : size of the final representation\n",
    "- window size : size of the visit context window "
   ]
  },
  {
   "cell_type": "code",
   "execution_count": null,
   "metadata": {},
   "outputs": [],
   "source": [
    "embDimSize_list = [20, 50, 100]\n",
    "hiddenDimSize_list = [20, 50, 100]\n",
    "window_size_list = [1, 3, 5]"
   ]
  },
  {
   "cell_type": "code",
   "execution_count": null,
   "metadata": {},
   "outputs": [],
   "source": [
    "N = # Number of unique codes\n",
    "path = # path "
   ]
  },
  {
   "cell_type": "code",
   "execution_count": null,
   "metadata": {},
   "outputs": [],
   "source": [
    "File = {\n",
    "    'seqFile' : path+'data_pickle',\n",
    "    'labelFile' : '',\n",
    "    'outFile' :path,\n",
    "    'demoFile' : '',\n",
    "    'numXcodes': N,\n",
    "    'numYcodes': 0,\n",
    "    'demoSize': 0,\n",
    "    'batchSize' : 250, \n",
    "    'maxEpochs' : 5 ,\n",
    "    'logEps': 1e-6,\n",
    "    'L2_reg': 0.001\n",
    "}"
   ]
  },
  {
   "cell_type": "code",
   "execution_count": null,
   "metadata": {},
   "outputs": [],
   "source": [
    "df_gridsearch_word2vec = Gridsearch_Med2Vec(File, embDimSize_list, hiddenDimSize_list, window_size_list)"
   ]
  },
  {
   "cell_type": "code",
   "execution_count": null,
   "metadata": {},
   "outputs": [],
   "source": [
    "print('Optimal hyperparameters are ')\n",
    "print('Embedding_size : ' + str(df_gridsearch_word2vec.iloc[int(np.where(df_gridsearch_word2vec.Loss_test==np.min(df_gridsearch_word2vec['Loss_test']))[0].item())].embDimSize))\n",
    "print('Hidden_size : ' + str(df_gridsearch_word2vec.iloc[int(np.where(df_gridsearch_word2vec.Loss_test==np.min(df_gridsearch_word2vec['Loss_test']))[0].item())].hiddenDimSize))\n",
    "print('Window_size : ' + str(df_gridsearch_word2vec.iloc[int(np.where(df_gridsearch_word2vec.Loss_test==np.min(df_gridsearch_word2vec['Loss_test']))[0].item())].windowSize))"
   ]
  },
  {
   "cell_type": "markdown",
   "metadata": {},
   "source": [
    "## Training"
   ]
  },
  {
   "cell_type": "code",
   "execution_count": null,
   "metadata": {},
   "outputs": [],
   "source": [
    "embDimSize_opt = df_gridsearch_word2vec.iloc[int(np.where(df_gridsearch_word2vec.Loss_test==np.min(df_gridsearch_word2vec['Loss_test']))[0].item())].embDimSize\n",
    "hiddenDimSize_opt = df_gridsearch_word2vec.iloc[int(np.where(df_gridsearch_word2vec.Loss_test==np.min(df_gridsearch_word2vec['Loss_test']))[0].item())].hiddenDimSize\n",
    "windowSize_opt = df_gridsearch_word2vec.iloc[int(np.where(df_gridsearch_word2vec.Loss_test==np.min(df_gridsearch_word2vec['Loss_test']))[0].item())].windowSize"
   ]
  },
  {
   "cell_type": "code",
   "execution_count": null,
   "metadata": {},
   "outputs": [],
   "source": [
    "File = {\n",
    "    'seqFile' : path+'data_pickle',\n",
    "    'labelFile' : '',\n",
    "    'outFile' : path,\n",
    "    'demoFile' : '',\n",
    "    'numXcodes': N,\n",
    "    'numYcodes': 0,\n",
    "    'demoSize': 0,\n",
    "    'embDimSize' : embDimSize_opt,\n",
    "    'hiddenDimSize' : hiddenDimSize_opt,\n",
    "    'windowSize' : windowSize_opt,\n",
    "    'batchSize' : 250, \n",
    "    'maxEpochs' : 20,\n",
    "    'logEps': 1e-6,\n",
    "    'L2_reg': 0.001\n",
    "}"
   ]
  },
  {
   "cell_type": "code",
   "execution_count": null,
   "metadata": {},
   "outputs": [],
   "source": [
    "loss_train, loss_test = Train_Med2Vec(File)"
   ]
  },
  {
   "cell_type": "markdown",
   "metadata": {},
   "source": [
    "## Resulting Patient Representation"
   ]
  },
  {
   "cell_type": "markdown",
   "metadata": {},
   "source": [
    "patient_representation = []\n",
    "\n",
    "for each unique patient :\n",
    "\n",
    "    visit_embedding = np.zeros(hiddenDimSize_opt)\n",
    "\n",
    "    for visit in the sequence of the patient :\n",
    "\n",
    "        one_hot_encoded = np.zeros(File['numXcodes'])\n",
    "\n",
    "        one_hot_encoded[visit] = 1\n",
    "\n",
    "        code_embedding = np.maximum(one_hot_encoded.dot(model_param['W_emb']) + model_param['b_emb'],0)\n",
    "\n",
    "        visit_embedding += np.maximum(code_embedding.dot(model_param['W_hidden']) + model_para['b_hidden'],0)\n",
    "        \n",
    "    patient_representation.append(visit_embedding)"
   ]
  },
  {
   "cell_type": "code",
   "execution_count": null,
   "metadata": {},
   "outputs": [],
   "source": [
    "np.save('patient_representations', patient_representation)"
   ]
  },
  {
   "cell_type": "code",
   "execution_count": null,
   "metadata": {},
   "outputs": [],
   "source": []
  }
 ],
 "metadata": {
  "kernelspec": {
   "display_name": "Calcul",
   "language": "python",
   "name": "python3"
  },
  "language_info": {
   "codemirror_mode": {
    "name": "ipython",
    "version": 2
   },
   "file_extension": ".py",
   "mimetype": "text/x-python",
   "name": "python",
   "nbconvert_exporter": "python",
   "pygments_lexer": "ipython2",
   "version": "2.7.18"
  }
 },
 "nbformat": 4,
 "nbformat_minor": 2
}
